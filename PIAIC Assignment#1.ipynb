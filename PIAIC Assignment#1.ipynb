{
 "cells": [
  {
   "cell_type": "code",
   "execution_count": 3,
   "metadata": {},
   "outputs": [
    {
     "name": "stdout",
     "output_type": "stream",
     "text": [
      "What are your marks in Maths? 50\n",
      "What are your marks in Chemistry? 60\n",
      "What are your marks in Physics? 70\n",
      "Your Grade Is : B\n"
     ]
    }
   ],
   "source": [
    "#Marksheet Assignment by Usman Khan\n",
    "marks = int(input(\"What are your marks in Maths? \"))\n",
    "marks1 = int(input(\"What are your marks in Chemistry? \"))\n",
    "marks2 = int(input(\"What are your marks in Physics? \"))\n",
    "total = (marks+marks1+marks2)/3\n",
    "if(total > 78 and total < 100):\n",
    "    print(\"Your Grade Is : A\")\n",
    "elif(total > 42 and total < 77):\n",
    "    print(\"Your Grade Is : B\")\n",
    "elif(total > 22 and total < 41):\n",
    "    print(\"Your Grade Is : C\")\n",
    "else:\n",
    "    print(\"Your Grade Is : D\")"
   ]
  },
  {
   "cell_type": "code",
   "execution_count": null,
   "metadata": {},
   "outputs": [],
   "source": []
  },
  {
   "cell_type": "code",
   "execution_count": null,
   "metadata": {},
   "outputs": [],
   "source": []
  }
 ],
 "metadata": {
  "kernelspec": {
   "display_name": "Python 3",
   "language": "python",
   "name": "python3"
  },
  "language_info": {
   "codemirror_mode": {
    "name": "ipython",
    "version": 3
   },
   "file_extension": ".py",
   "mimetype": "text/x-python",
   "name": "python",
   "nbconvert_exporter": "python",
   "pygments_lexer": "ipython3",
   "version": "3.7.3"
  }
 },
 "nbformat": 4,
 "nbformat_minor": 2
}
