{
 "cells": [
  {
   "cell_type": "code",
   "execution_count": 10,
   "metadata": {},
   "outputs": [
    {
     "name": "stdout",
     "output_type": "stream",
     "text": [
      "What is your name ?Ahmed\n",
      "What are your marks in Maths? 60\n",
      "What are your marks in Chemistry? 70\n",
      "What are your marks in Physics? 67\n",
      "Osama\n",
      "Your Grade Is : B\n",
      "Usman\n",
      "Your Grade Is : A\n",
      "Ali\n",
      "Your Grade Is : B\n",
      "Ahmed\n",
      "Your Grade Is : B\n",
      "\n"
     ]
    }
   ],
   "source": [
    "#Marksheet Assignment by Usman Khan\n",
    "name = input(\"What is your name ?\")\n",
    "marks = int(input(\"What are your marks in Maths? \"))\n",
    "marks1 = int(input(\"What are your marks in Chemistry? \"))\n",
    "marks2 = int(input(\"What are your marks in Physics? \"))\n",
    "total = (marks+marks1+marks2)/3\n",
    "with open(\"file.txt\",\"a\") as f:  \n",
    "    f.write(name)\n",
    "    f.write(\"\\n\")\n",
    "    if(total > 78 and total < 100):\n",
    "        f.write(\"Your Grade Is : A\\n\")\n",
    "    elif(total > 42 and total < 77):\n",
    "        f.write(\"Your Grade Is : B\\n\")\n",
    "    elif(total > 22 and total < 41):\n",
    "        f.write(\"Your Grade Is : C\\n\")\n",
    "    else:\n",
    "        f.write(\"Your Grade Is : F\\n\")\n",
    "        \n",
    "with open(\"file.txt\",\"r\") as f:\n",
    "    text = f.read()\n",
    "    print(text)\n"
   ]
  },
  {
   "cell_type": "code",
   "execution_count": null,
   "metadata": {},
   "outputs": [],
   "source": []
  },
  {
   "cell_type": "code",
   "execution_count": null,
   "metadata": {},
   "outputs": [],
   "source": []
  }
 ],
 "metadata": {
  "kernelspec": {
   "display_name": "Python 3",
   "language": "python",
   "name": "python3"
  }
 },
 "nbformat": 4,
 "nbformat_minor": 2
}
